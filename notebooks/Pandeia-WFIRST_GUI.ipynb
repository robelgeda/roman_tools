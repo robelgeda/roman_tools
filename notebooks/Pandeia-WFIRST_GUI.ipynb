{
 "cells": [
  {
   "cell_type": "markdown",
   "metadata": {},
   "source": [
    "<h3> WFIRST GUI</h3>\n",
    "If you cannot see the GUI, click Run or type shift-enter in the next cell. To reset to the default values, simply run the cell again."
   ]
  },
  {
   "cell_type": "code",
   "execution_count": 1,
   "metadata": {
    "scrolled": false
   },
   "outputs": [
    {
     "data": {
      "application/vnd.jupyter.widget-view+json": {
       "model_id": "4028b35e92ea46c399be53fb5ac906ba",
       "version_major": 2,
       "version_minor": 0
      },
      "text/plain": [
       "VBox(children=(HTML(value=\"<b>If no advanced settings are changed,</b> a centered point source with no redshif…"
      ]
     },
     "metadata": {},
     "output_type": "display_data"
    },
    {
     "name": "stderr",
     "output_type": "stream",
     "text": [
      "/Users/riedel/anacondac/envs/pan9.2_c_3.6/lib/python3.6/site-packages/pandeia.engine-1.4-py3.6.egg/pandeia/engine/etc3D.py:1285: FutureWarning: The 'readmode' keyword will be corrected to 'readout_pattern' in v1.5.\n",
      "  warn(\"The 'readmode' keyword will be corrected to 'readout_pattern' in v1.5.\", category=FutureWarning)\n"
     ]
    }
   ],
   "source": [
    "from pandeia.engine import nb_utils2\n",
    "gui = nb_utils2.WFIRST_gui()\n",
    "%matplotlib inline\n",
    "gui.display"
   ]
  },
  {
   "cell_type": "code",
   "execution_count": null,
   "metadata": {},
   "outputs": [],
   "source": []
  }
 ],
 "metadata": {
  "kernelspec": {
   "display_name": "Python [conda env:pan9.2_c_3.6]",
   "language": "python",
   "name": "conda-env-pan9.2_c_3.6-py"
  },
  "language_info": {
   "codemirror_mode": {
    "name": "ipython",
    "version": 3
   },
   "file_extension": ".py",
   "mimetype": "text/x-python",
   "name": "python",
   "nbconvert_exporter": "python",
   "pygments_lexer": "ipython3",
   "version": "3.6.5"
  }
 },
 "nbformat": 4,
 "nbformat_minor": 2
}
